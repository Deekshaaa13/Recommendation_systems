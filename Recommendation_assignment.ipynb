{
 "cells": [
  {
   "cell_type": "markdown",
   "metadata": {},
   "source": [
    "# Recommendation system for books:\n",
    "Recommendation engine for books based on the similarity scores."
   ]
  },
  {
   "cell_type": "markdown",
   "metadata": {},
   "source": [
    "## Importing libraries:"
   ]
  },
  {
   "cell_type": "code",
   "execution_count": 4,
   "metadata": {},
   "outputs": [],
   "source": [
    "import pandas as pd\n",
    "import numpy as np\n",
    "import matplotlib.pyplot as plt\n",
    "import seaborn as sns"
   ]
  },
  {
   "cell_type": "markdown",
   "metadata": {},
   "source": [
    "## Importing the dataset:"
   ]
  },
  {
   "cell_type": "code",
   "execution_count": 28,
   "metadata": {},
   "outputs": [
    {
     "data": {
      "text/html": [
       "<div>\n",
       "<style scoped>\n",
       "    .dataframe tbody tr th:only-of-type {\n",
       "        vertical-align: middle;\n",
       "    }\n",
       "\n",
       "    .dataframe tbody tr th {\n",
       "        vertical-align: top;\n",
       "    }\n",
       "\n",
       "    .dataframe thead th {\n",
       "        text-align: right;\n",
       "    }\n",
       "</style>\n",
       "<table border=\"1\" class=\"dataframe\">\n",
       "  <thead>\n",
       "    <tr style=\"text-align: right;\">\n",
       "      <th></th>\n",
       "      <th>Unnamed: 0</th>\n",
       "      <th>User.ID</th>\n",
       "      <th>Book.Title</th>\n",
       "      <th>Book.Rating</th>\n",
       "    </tr>\n",
       "  </thead>\n",
       "  <tbody>\n",
       "    <tr>\n",
       "      <th>0</th>\n",
       "      <td>1</td>\n",
       "      <td>276726</td>\n",
       "      <td>Classical Mythology</td>\n",
       "      <td>5</td>\n",
       "    </tr>\n",
       "    <tr>\n",
       "      <th>1</th>\n",
       "      <td>2</td>\n",
       "      <td>276729</td>\n",
       "      <td>Clara Callan</td>\n",
       "      <td>3</td>\n",
       "    </tr>\n",
       "    <tr>\n",
       "      <th>2</th>\n",
       "      <td>3</td>\n",
       "      <td>276729</td>\n",
       "      <td>Decision in Normandy</td>\n",
       "      <td>6</td>\n",
       "    </tr>\n",
       "    <tr>\n",
       "      <th>3</th>\n",
       "      <td>4</td>\n",
       "      <td>276736</td>\n",
       "      <td>Flu: The Story of the Great Influenza Pandemic...</td>\n",
       "      <td>8</td>\n",
       "    </tr>\n",
       "    <tr>\n",
       "      <th>4</th>\n",
       "      <td>5</td>\n",
       "      <td>276737</td>\n",
       "      <td>The Mummies of Urumchi</td>\n",
       "      <td>6</td>\n",
       "    </tr>\n",
       "  </tbody>\n",
       "</table>\n",
       "</div>"
      ],
      "text/plain": [
       "   Unnamed: 0  User.ID                                         Book.Title  \\\n",
       "0           1   276726                                Classical Mythology   \n",
       "1           2   276729                                       Clara Callan   \n",
       "2           3   276729                               Decision in Normandy   \n",
       "3           4   276736  Flu: The Story of the Great Influenza Pandemic...   \n",
       "4           5   276737                             The Mummies of Urumchi   \n",
       "\n",
       "   Book.Rating  \n",
       "0            5  \n",
       "1            3  \n",
       "2            6  \n",
       "3            8  \n",
       "4            6  "
      ]
     },
     "execution_count": 28,
     "metadata": {},
     "output_type": "execute_result"
    }
   ],
   "source": [
    "df=pd.read_csv('bookRecommendation.csv',encoding='cp1252')\n",
    "df.head() #Retrieving the first 5 records."
   ]
  },
  {
   "cell_type": "markdown",
   "metadata": {},
   "source": [
    "## EDA"
   ]
  },
  {
   "cell_type": "code",
   "execution_count": 29,
   "metadata": {},
   "outputs": [
    {
     "data": {
      "text/plain": [
       "Unnamed: 0     0\n",
       "User.ID        0\n",
       "Book.Title     0\n",
       "Book.Rating    0\n",
       "dtype: int64"
      ]
     },
     "execution_count": 29,
     "metadata": {},
     "output_type": "execute_result"
    }
   ],
   "source": [
    "df.isnull().sum() # checking for null values"
   ]
  },
  {
   "cell_type": "code",
   "execution_count": 34,
   "metadata": {},
   "outputs": [
    {
     "name": "stdout",
     "output_type": "stream",
     "text": [
      "<class 'pandas.core.frame.DataFrame'>\n",
      "RangeIndex: 10000 entries, 0 to 9999\n",
      "Data columns (total 4 columns):\n",
      " #   Column      Non-Null Count  Dtype \n",
      "---  ------      --------------  ----- \n",
      " 0   Unnamed: 0  10000 non-null  int64 \n",
      " 1   userid      10000 non-null  int64 \n",
      " 2   title       10000 non-null  object\n",
      " 3   rating      10000 non-null  int64 \n",
      "dtypes: int64(3), object(1)\n",
      "memory usage: 312.6+ KB\n"
     ]
    }
   ],
   "source": [
    "df.info() ##Datatypes of each feature in the df Dataframe."
   ]
  },
  {
   "cell_type": "code",
   "execution_count": 8,
   "metadata": {},
   "outputs": [],
   "source": [
    "df.drop(columns='Unnamed: 0',inplace=True) # Dropping the unnamed column because it is not important in the analysis.\n",
    "#inplace=True refelects the changes in the original df Dataframe."
   ]
  },
  {
   "cell_type": "code",
   "execution_count": 30,
   "metadata": {},
   "outputs": [],
   "source": [
    "df.rename(columns={'User.ID':'userid','Book.Title':'title','Book.Rating':'rating'},inplace=True) # renaming the column for \n",
    "##easy accessing of features during the analysis."
   ]
  },
  {
   "cell_type": "code",
   "execution_count": 10,
   "metadata": {},
   "outputs": [
    {
     "data": {
      "text/plain": [
       "3757      523\n",
       "162052    214\n",
       "2276      212\n",
       "4017      156\n",
       "277427    150\n",
       "         ... \n",
       "230         1\n",
       "771         1\n",
       "2850        1\n",
       "277284      1\n",
       "161757      1\n",
       "Name: userid, Length: 2182, dtype: int64"
      ]
     },
     "execution_count": 10,
     "metadata": {},
     "output_type": "execute_result"
    }
   ],
   "source": [
    "df['userid'].value_counts() # finding the count of each user in the 'userid' column."
   ]
  },
  {
   "cell_type": "code",
   "execution_count": 33,
   "metadata": {},
   "outputs": [
    {
     "data": {
      "text/plain": [
       "Fahrenheit 451                                               5\n",
       "Ender's Game (Ender Wiggins Saga (Paperback))                4\n",
       "The Amber Spyglass (His Dark Materials, Book 3)              4\n",
       "Charlie and the Chocolate Factory                            4\n",
       "Stardust                                                     4\n",
       "                                                            ..\n",
       "Let's Tell Time (First-Start Easy Reader)                    1\n",
       "Love's Encore                                                1\n",
       "Ensenar A Pensar                                             1\n",
       "That Kind Of Girl (Silhouette Intimate Moments, No. 1116)    1\n",
       "Man Who Fell to Earth                                        1\n",
       "Name: title, Length: 9659, dtype: int64"
      ]
     },
     "execution_count": 33,
     "metadata": {},
     "output_type": "execute_result"
    }
   ],
   "source": [
    "df['title'].value_counts() # finding the count of each title in the title column."
   ]
  },
  {
   "cell_type": "markdown",
   "metadata": {},
   "source": [
    "### Explanation:\n",
    "In the below block of code, I am creating a new dataframe by grouping title with the rating and calculating the mean, count, i.e. for each unique title mean and count is calculated represented by the ratings_df Dataframe."
   ]
  },
  {
   "cell_type": "code",
   "execution_count": 36,
   "metadata": {},
   "outputs": [
    {
     "data": {
      "text/html": [
       "<div>\n",
       "<style scoped>\n",
       "    .dataframe tbody tr th:only-of-type {\n",
       "        vertical-align: middle;\n",
       "    }\n",
       "\n",
       "    .dataframe tbody tr th {\n",
       "        vertical-align: top;\n",
       "    }\n",
       "\n",
       "    .dataframe thead th {\n",
       "        text-align: right;\n",
       "    }\n",
       "</style>\n",
       "<table border=\"1\" class=\"dataframe\">\n",
       "  <thead>\n",
       "    <tr style=\"text-align: right;\">\n",
       "      <th></th>\n",
       "      <th>average_rating</th>\n",
       "      <th>total_rating_count</th>\n",
       "    </tr>\n",
       "    <tr>\n",
       "      <th>title</th>\n",
       "      <th></th>\n",
       "      <th></th>\n",
       "    </tr>\n",
       "  </thead>\n",
       "  <tbody>\n",
       "    <tr>\n",
       "      <th>...AND THE HORSE HE RODE IN ON : THE PEOPLE V. KENNETH STARR</th>\n",
       "      <td>7.0</td>\n",
       "      <td>1</td>\n",
       "    </tr>\n",
       "    <tr>\n",
       "      <th>1,401 More Things That P*Ss Me Off</th>\n",
       "      <td>10.0</td>\n",
       "      <td>1</td>\n",
       "    </tr>\n",
       "    <tr>\n",
       "      <th>1001 Brilliant Ways to Checkmate</th>\n",
       "      <td>10.0</td>\n",
       "      <td>1</td>\n",
       "    </tr>\n",
       "    <tr>\n",
       "      <th>101 Essential Tips: House Plants</th>\n",
       "      <td>9.0</td>\n",
       "      <td>1</td>\n",
       "    </tr>\n",
       "    <tr>\n",
       "      <th>101 Wacky Computer Jokes</th>\n",
       "      <td>7.0</td>\n",
       "      <td>1</td>\n",
       "    </tr>\n",
       "  </tbody>\n",
       "</table>\n",
       "</div>"
      ],
      "text/plain": [
       "                                                    average_rating  \\\n",
       "title                                                                \n",
       "...AND THE HORSE HE RODE IN ON : THE PEOPLE V. ...             7.0   \n",
       "1,401 More Things That P*Ss Me Off                            10.0   \n",
       "1001 Brilliant Ways to Checkmate                              10.0   \n",
       "101 Essential Tips: House Plants                               9.0   \n",
       "101 Wacky Computer Jokes                                       7.0   \n",
       "\n",
       "                                                    total_rating_count  \n",
       "title                                                                   \n",
       "...AND THE HORSE HE RODE IN ON : THE PEOPLE V. ...                   1  \n",
       "1,401 More Things That P*Ss Me Off                                   1  \n",
       "1001 Brilliant Ways to Checkmate                                     1  \n",
       "101 Essential Tips: House Plants                                     1  \n",
       "101 Wacky Computer Jokes                                             1  "
      ]
     },
     "execution_count": 36,
     "metadata": {},
     "output_type": "execute_result"
    }
   ],
   "source": [
    "ratings_gp=ratings.groupby(by='title')['rating'].mean() #Grouping using the groupby() function from the pandas library\n",
    "#and finding the mean.\n",
    "ratings_df=pd.DataFrame(ratings_gp).rename(columns={'rating':'average_rating'}) #renaming the ratings feature to average \n",
    "#rating using the rename() function.\n",
    "ratings_df['total_rating_count']=pd.DataFrame(df.groupby(by='title')['rating'].count()) #creating a new feature of total_rating_count\n",
    "# in the ratings_df which is the total number of ratings for each title\n",
    "ratings_df.head() #Retrieving the first 5 records"
   ]
  },
  {
   "cell_type": "markdown",
   "metadata": {},
   "source": [
    "###  In the below statements, I am creating a barplot of the title to visualise the no. of ratings given for each title and sorting them based on the highest number of ratings."
   ]
  },
  {
   "cell_type": "code",
   "execution_count": 41,
   "metadata": {},
   "outputs": [
    {
     "data": {
      "image/png": "[encoded data removed]",
      "text/plain": [
       "<Figure size 1152x432 with 1 Axes>"
      ]
     },
     "metadata": {
      "needs_background": "light"
     },
     "output_type": "display_data"
    }
   ],
   "source": [
    "plt.figure(figsize=(16,6))\n",
    "ratings_sort=ratings_df.sort_values(by='total_rating_count',ascending=False).head(10) #sorting the values based on the \n",
    "#highest no. of ratings given to each book using sort_values() function.\n",
    "ax = sns.barplot(x=ratings_sort['total_rating_count'], y=ratings_sort.index, data=ratings_sort, palette='deep') #using the \n",
    "#barplot() function from seaborn library, plotting the index of the ratings_df which is title on the y axis and total \n",
    "#rating coubt for each book on the x axis.\n",
    "plt.title('Popular books', weight='bold')\n",
    "plt.xlabel('No. of ratings', weight='bold')\n",
    "plt.ylabel('Books', weight='bold')\n",
    "plt.savefig('scored_books.png')"
   ]
  },
  {
   "cell_type": "markdown",
   "metadata": {},
   "source": [
    "From the above plot, the book Fahrenheit 451 is given highest rating."
   ]
  },
  {
   "cell_type": "code",
   "execution_count": 42,
   "metadata": {},
   "outputs": [
    {
     "data": {
      "image/png": "[encoded data removed]",
      "text/plain": [
       "<Figure size 1152x432 with 1 Axes>"
      ]
     },
     "metadata": {
      "needs_background": "light"
     },
     "output_type": "display_data"
    }
   ],
   "source": [
    "plt.figure(figsize=(16,6))\n",
    "ratings_sort=ratings_df.sort_values(by='average_rating',ascending=False).head(10) #sorting based on the highest average rating\n",
    "#for each book.\n",
    "ax = sns.barplot(x=ratings_sort['average_rating'], y=ratings_sort.index, data=ratings_sort, palette='deep')\n",
    "#plt.xlim(3.55, 5.25)\n",
    "plt.title('Popular books', weight='bold')\n",
    "plt.xlabel('Average rating', weight='bold')\n",
    "plt.ylabel('Books', weight='bold')\n",
    "plt.savefig('scored_books.png')"
   ]
  },
  {
   "cell_type": "markdown",
   "metadata": {},
   "source": [
    "From the above plot, we see that most of the books have been given good rating."
   ]
  },
  {
   "cell_type": "markdown",
   "metadata": {},
   "source": [
    "## Creating a pivot table:"
   ]
  },
  {
   "cell_type": "code",
   "execution_count": 17,
   "metadata": {},
   "outputs": [
    {
     "data": {
      "text/html": [
       "<div>\n",
       "<style scoped>\n",
       "    .dataframe tbody tr th:only-of-type {\n",
       "        vertical-align: middle;\n",
       "    }\n",
       "\n",
       "    .dataframe tbody tr th {\n",
       "        vertical-align: top;\n",
       "    }\n",
       "\n",
       "    .dataframe thead th {\n",
       "        text-align: right;\n",
       "    }\n",
       "</style>\n",
       "<table border=\"1\" class=\"dataframe\">\n",
       "  <thead>\n",
       "    <tr style=\"text-align: right;\">\n",
       "      <th>userid</th>\n",
       "      <th>8</th>\n",
       "      <th>9</th>\n",
       "      <th>10</th>\n",
       "      <th>12</th>\n",
       "      <th>14</th>\n",
       "      <th>16</th>\n",
       "      <th>17</th>\n",
       "      <th>19</th>\n",
       "      <th>22</th>\n",
       "      <th>26</th>\n",
       "      <th>...</th>\n",
       "      <th>278831</th>\n",
       "      <th>278832</th>\n",
       "      <th>278836</th>\n",
       "      <th>278843</th>\n",
       "      <th>278844</th>\n",
       "      <th>278846</th>\n",
       "      <th>278849</th>\n",
       "      <th>278851</th>\n",
       "      <th>278852</th>\n",
       "      <th>278854</th>\n",
       "    </tr>\n",
       "    <tr>\n",
       "      <th>title</th>\n",
       "      <th></th>\n",
       "      <th></th>\n",
       "      <th></th>\n",
       "      <th></th>\n",
       "      <th></th>\n",
       "      <th></th>\n",
       "      <th></th>\n",
       "      <th></th>\n",
       "      <th></th>\n",
       "      <th></th>\n",
       "      <th></th>\n",
       "      <th></th>\n",
       "      <th></th>\n",
       "      <th></th>\n",
       "      <th></th>\n",
       "      <th></th>\n",
       "      <th></th>\n",
       "      <th></th>\n",
       "      <th></th>\n",
       "      <th></th>\n",
       "      <th></th>\n",
       "    </tr>\n",
       "  </thead>\n",
       "  <tbody>\n",
       "    <tr>\n",
       "      <th>Jason, Madison &amp;amp</th>\n",
       "      <td>0.0</td>\n",
       "      <td>0.0</td>\n",
       "      <td>0.0</td>\n",
       "      <td>0.0</td>\n",
       "      <td>0.0</td>\n",
       "      <td>0.0</td>\n",
       "      <td>0.0</td>\n",
       "      <td>0.0</td>\n",
       "      <td>0.0</td>\n",
       "      <td>0.0</td>\n",
       "      <td>...</td>\n",
       "      <td>0.0</td>\n",
       "      <td>0.0</td>\n",
       "      <td>0.0</td>\n",
       "      <td>0.0</td>\n",
       "      <td>0.0</td>\n",
       "      <td>0.0</td>\n",
       "      <td>0.0</td>\n",
       "      <td>0.0</td>\n",
       "      <td>0.0</td>\n",
       "      <td>0.0</td>\n",
       "    </tr>\n",
       "    <tr>\n",
       "      <th>Other Stories;Merril;1985;McClelland &amp;amp</th>\n",
       "      <td>0.0</td>\n",
       "      <td>0.0</td>\n",
       "      <td>0.0</td>\n",
       "      <td>0.0</td>\n",
       "      <td>0.0</td>\n",
       "      <td>0.0</td>\n",
       "      <td>0.0</td>\n",
       "      <td>0.0</td>\n",
       "      <td>0.0</td>\n",
       "      <td>0.0</td>\n",
       "      <td>...</td>\n",
       "      <td>0.0</td>\n",
       "      <td>0.0</td>\n",
       "      <td>0.0</td>\n",
       "      <td>0.0</td>\n",
       "      <td>0.0</td>\n",
       "      <td>0.0</td>\n",
       "      <td>0.0</td>\n",
       "      <td>0.0</td>\n",
       "      <td>0.0</td>\n",
       "      <td>0.0</td>\n",
       "    </tr>\n",
       "    <tr>\n",
       "      <th>Repairing PC Drives &amp;amp</th>\n",
       "      <td>0.0</td>\n",
       "      <td>0.0</td>\n",
       "      <td>0.0</td>\n",
       "      <td>0.0</td>\n",
       "      <td>0.0</td>\n",
       "      <td>0.0</td>\n",
       "      <td>0.0</td>\n",
       "      <td>0.0</td>\n",
       "      <td>0.0</td>\n",
       "      <td>0.0</td>\n",
       "      <td>...</td>\n",
       "      <td>0.0</td>\n",
       "      <td>0.0</td>\n",
       "      <td>0.0</td>\n",
       "      <td>0.0</td>\n",
       "      <td>0.0</td>\n",
       "      <td>0.0</td>\n",
       "      <td>0.0</td>\n",
       "      <td>0.0</td>\n",
       "      <td>0.0</td>\n",
       "      <td>0.0</td>\n",
       "    </tr>\n",
       "    <tr>\n",
       "      <th>'48</th>\n",
       "      <td>0.0</td>\n",
       "      <td>0.0</td>\n",
       "      <td>0.0</td>\n",
       "      <td>0.0</td>\n",
       "      <td>0.0</td>\n",
       "      <td>0.0</td>\n",
       "      <td>0.0</td>\n",
       "      <td>0.0</td>\n",
       "      <td>0.0</td>\n",
       "      <td>0.0</td>\n",
       "      <td>...</td>\n",
       "      <td>0.0</td>\n",
       "      <td>0.0</td>\n",
       "      <td>0.0</td>\n",
       "      <td>0.0</td>\n",
       "      <td>0.0</td>\n",
       "      <td>0.0</td>\n",
       "      <td>0.0</td>\n",
       "      <td>0.0</td>\n",
       "      <td>0.0</td>\n",
       "      <td>0.0</td>\n",
       "    </tr>\n",
       "    <tr>\n",
       "      <th>'O Au No Keia: Voices from Hawai'I's Mahu and Transgender Communities</th>\n",
       "      <td>0.0</td>\n",
       "      <td>0.0</td>\n",
       "      <td>0.0</td>\n",
       "      <td>0.0</td>\n",
       "      <td>0.0</td>\n",
       "      <td>0.0</td>\n",
       "      <td>0.0</td>\n",
       "      <td>0.0</td>\n",
       "      <td>0.0</td>\n",
       "      <td>0.0</td>\n",
       "      <td>...</td>\n",
       "      <td>0.0</td>\n",
       "      <td>0.0</td>\n",
       "      <td>0.0</td>\n",
       "      <td>0.0</td>\n",
       "      <td>0.0</td>\n",
       "      <td>0.0</td>\n",
       "      <td>0.0</td>\n",
       "      <td>0.0</td>\n",
       "      <td>0.0</td>\n",
       "      <td>0.0</td>\n",
       "    </tr>\n",
       "    <tr>\n",
       "      <th>...</th>\n",
       "      <td>...</td>\n",
       "      <td>...</td>\n",
       "      <td>...</td>\n",
       "      <td>...</td>\n",
       "      <td>...</td>\n",
       "      <td>...</td>\n",
       "      <td>...</td>\n",
       "      <td>...</td>\n",
       "      <td>...</td>\n",
       "      <td>...</td>\n",
       "      <td>...</td>\n",
       "      <td>...</td>\n",
       "      <td>...</td>\n",
       "      <td>...</td>\n",
       "      <td>...</td>\n",
       "      <td>...</td>\n",
       "      <td>...</td>\n",
       "      <td>...</td>\n",
       "      <td>...</td>\n",
       "      <td>...</td>\n",
       "      <td>...</td>\n",
       "    </tr>\n",
       "    <tr>\n",
       "      <th>\\Surely You're Joking, Mr. Feynman!\\: Adventures of a Curious Character</th>\n",
       "      <td>0.0</td>\n",
       "      <td>0.0</td>\n",
       "      <td>0.0</td>\n",
       "      <td>0.0</td>\n",
       "      <td>0.0</td>\n",
       "      <td>0.0</td>\n",
       "      <td>0.0</td>\n",
       "      <td>0.0</td>\n",
       "      <td>0.0</td>\n",
       "      <td>0.0</td>\n",
       "      <td>...</td>\n",
       "      <td>0.0</td>\n",
       "      <td>0.0</td>\n",
       "      <td>0.0</td>\n",
       "      <td>0.0</td>\n",
       "      <td>0.0</td>\n",
       "      <td>0.0</td>\n",
       "      <td>0.0</td>\n",
       "      <td>0.0</td>\n",
       "      <td>0.0</td>\n",
       "      <td>0.0</td>\n",
       "    </tr>\n",
       "    <tr>\n",
       "      <th>\\Well, there's your problem\\: Cartoons</th>\n",
       "      <td>0.0</td>\n",
       "      <td>0.0</td>\n",
       "      <td>0.0</td>\n",
       "      <td>0.0</td>\n",
       "      <td>0.0</td>\n",
       "      <td>0.0</td>\n",
       "      <td>0.0</td>\n",
       "      <td>0.0</td>\n",
       "      <td>0.0</td>\n",
       "      <td>0.0</td>\n",
       "      <td>...</td>\n",
       "      <td>0.0</td>\n",
       "      <td>0.0</td>\n",
       "      <td>0.0</td>\n",
       "      <td>0.0</td>\n",
       "      <td>0.0</td>\n",
       "      <td>0.0</td>\n",
       "      <td>0.0</td>\n",
       "      <td>0.0</td>\n",
       "      <td>0.0</td>\n",
       "      <td>0.0</td>\n",
       "    </tr>\n",
       "    <tr>\n",
       "      <th>iI Paradiso Degli Orchi</th>\n",
       "      <td>0.0</td>\n",
       "      <td>0.0</td>\n",
       "      <td>0.0</td>\n",
       "      <td>0.0</td>\n",
       "      <td>0.0</td>\n",
       "      <td>0.0</td>\n",
       "      <td>0.0</td>\n",
       "      <td>0.0</td>\n",
       "      <td>0.0</td>\n",
       "      <td>0.0</td>\n",
       "      <td>...</td>\n",
       "      <td>0.0</td>\n",
       "      <td>0.0</td>\n",
       "      <td>0.0</td>\n",
       "      <td>0.0</td>\n",
       "      <td>0.0</td>\n",
       "      <td>0.0</td>\n",
       "      <td>0.0</td>\n",
       "      <td>7.0</td>\n",
       "      <td>0.0</td>\n",
       "      <td>0.0</td>\n",
       "    </tr>\n",
       "    <tr>\n",
       "      <th>stardust</th>\n",
       "      <td>0.0</td>\n",
       "      <td>0.0</td>\n",
       "      <td>0.0</td>\n",
       "      <td>0.0</td>\n",
       "      <td>0.0</td>\n",
       "      <td>0.0</td>\n",
       "      <td>0.0</td>\n",
       "      <td>0.0</td>\n",
       "      <td>0.0</td>\n",
       "      <td>0.0</td>\n",
       "      <td>...</td>\n",
       "      <td>0.0</td>\n",
       "      <td>0.0</td>\n",
       "      <td>0.0</td>\n",
       "      <td>0.0</td>\n",
       "      <td>0.0</td>\n",
       "      <td>0.0</td>\n",
       "      <td>0.0</td>\n",
       "      <td>0.0</td>\n",
       "      <td>0.0</td>\n",
       "      <td>0.0</td>\n",
       "    </tr>\n",
       "    <tr>\n",
       "      <th>Ã?Â?bermorgen.</th>\n",
       "      <td>0.0</td>\n",
       "      <td>0.0</td>\n",
       "      <td>0.0</td>\n",
       "      <td>0.0</td>\n",
       "      <td>0.0</td>\n",
       "      <td>0.0</td>\n",
       "      <td>0.0</td>\n",
       "      <td>0.0</td>\n",
       "      <td>0.0</td>\n",
       "      <td>0.0</td>\n",
       "      <td>...</td>\n",
       "      <td>0.0</td>\n",
       "      <td>0.0</td>\n",
       "      <td>0.0</td>\n",
       "      <td>0.0</td>\n",
       "      <td>0.0</td>\n",
       "      <td>0.0</td>\n",
       "      <td>0.0</td>\n",
       "      <td>0.0</td>\n",
       "      <td>0.0</td>\n",
       "      <td>0.0</td>\n",
       "    </tr>\n",
       "  </tbody>\n",
       "</table>\n",
       "<p>9659 rows × 2182 columns</p>\n",
       "</div>"
      ],
      "text/plain": [
       "userid                                              8       9       10      \\\n",
       "title                                                                        \n",
       " Jason, Madison &amp                                   0.0     0.0     0.0   \n",
       " Other Stories;Merril;1985;McClelland &amp             0.0     0.0     0.0   \n",
       " Repairing PC Drives &amp                              0.0     0.0     0.0   \n",
       "'48                                                    0.0     0.0     0.0   \n",
       "'O Au No Keia: Voices from Hawai'I's Mahu and T...     0.0     0.0     0.0   \n",
       "...                                                    ...     ...     ...   \n",
       "\\Surely You're Joking, Mr. Feynman!\\: Adventure...     0.0     0.0     0.0   \n",
       "\\Well, there's your problem\\: Cartoons                 0.0     0.0     0.0   \n",
       "iI Paradiso Degli Orchi                                0.0     0.0     0.0   \n",
       "stardust                                               0.0     0.0     0.0   \n",
       "Ã?Â?bermorgen.                                         0.0     0.0     0.0   \n",
       "\n",
       "userid                                              12      14      16      \\\n",
       "title                                                                        \n",
       " Jason, Madison &amp                                   0.0     0.0     0.0   \n",
       " Other Stories;Merril;1985;McClelland &amp             0.0     0.0     0.0   \n",
       " Repairing PC Drives &amp                              0.0     0.0     0.0   \n",
       "'48                                                    0.0     0.0     0.0   \n",
       "'O Au No Keia: Voices from Hawai'I's Mahu and T...     0.0     0.0     0.0   \n",
       "...                                                    ...     ...     ...   \n",
       "\\Surely You're Joking, Mr. Feynman!\\: Adventure...     0.0     0.0     0.0   \n",
       "\\Well, there's your problem\\: Cartoons                 0.0     0.0     0.0   \n",
       "iI Paradiso Degli Orchi                                0.0     0.0     0.0   \n",
       "stardust                                               0.0     0.0     0.0   \n",
       "Ã?Â?bermorgen.                                         0.0     0.0     0.0   \n",
       "\n",
       "userid                                              17      19      22      \\\n",
       "title                                                                        \n",
       " Jason, Madison &amp                                   0.0     0.0     0.0   \n",
       " Other Stories;Merril;1985;McClelland &amp             0.0     0.0     0.0   \n",
       " Repairing PC Drives &amp                              0.0     0.0     0.0   \n",
       "'48                                                    0.0     0.0     0.0   \n",
       "'O Au No Keia: Voices from Hawai'I's Mahu and T...     0.0     0.0     0.0   \n",
       "...                                                    ...     ...     ...   \n",
       "\\Surely You're Joking, Mr. Feynman!\\: Adventure...     0.0     0.0     0.0   \n",
       "\\Well, there's your problem\\: Cartoons                 0.0     0.0     0.0   \n",
       "iI Paradiso Degli Orchi                                0.0     0.0     0.0   \n",
       "stardust                                               0.0     0.0     0.0   \n",
       "Ã?Â?bermorgen.                                         0.0     0.0     0.0   \n",
       "\n",
       "userid                                              26      ...  278831  \\\n",
       "title                                                       ...           \n",
       " Jason, Madison &amp                                   0.0  ...     0.0   \n",
       " Other Stories;Merril;1985;McClelland &amp             0.0  ...     0.0   \n",
       " Repairing PC Drives &amp                              0.0  ...     0.0   \n",
       "'48                                                    0.0  ...     0.0   \n",
       "'O Au No Keia: Voices from Hawai'I's Mahu and T...     0.0  ...     0.0   \n",
       "...                                                    ...  ...     ...   \n",
       "\\Surely You're Joking, Mr. Feynman!\\: Adventure...     0.0  ...     0.0   \n",
       "\\Well, there's your problem\\: Cartoons                 0.0  ...     0.0   \n",
       "iI Paradiso Degli Orchi                                0.0  ...     0.0   \n",
       "stardust                                               0.0  ...     0.0   \n",
       "Ã?Â?bermorgen.                                         0.0  ...     0.0   \n",
       "\n",
       "userid                                              278832  278836  278843  \\\n",
       "title                                                                        \n",
       " Jason, Madison &amp                                   0.0     0.0     0.0   \n",
       " Other Stories;Merril;1985;McClelland &amp             0.0     0.0     0.0   \n",
       " Repairing PC Drives &amp                              0.0     0.0     0.0   \n",
       "'48                                                    0.0     0.0     0.0   \n",
       "'O Au No Keia: Voices from Hawai'I's Mahu and T...     0.0     0.0     0.0   \n",
       "...                                                    ...     ...     ...   \n",
       "\\Surely You're Joking, Mr. Feynman!\\: Adventure...     0.0     0.0     0.0   \n",
       "\\Well, there's your problem\\: Cartoons                 0.0     0.0     0.0   \n",
       "iI Paradiso Degli Orchi                                0.0     0.0     0.0   \n",
       "stardust                                               0.0     0.0     0.0   \n",
       "Ã?Â?bermorgen.                                         0.0     0.0     0.0   \n",
       "\n",
       "userid                                              278844  278846  278849  \\\n",
       "title                                                                        \n",
       " Jason, Madison &amp                                   0.0     0.0     0.0   \n",
       " Other Stories;Merril;1985;McClelland &amp             0.0     0.0     0.0   \n",
       " Repairing PC Drives &amp                              0.0     0.0     0.0   \n",
       "'48                                                    0.0     0.0     0.0   \n",
       "'O Au No Keia: Voices from Hawai'I's Mahu and T...     0.0     0.0     0.0   \n",
       "...                                                    ...     ...     ...   \n",
       "\\Surely You're Joking, Mr. Feynman!\\: Adventure...     0.0     0.0     0.0   \n",
       "\\Well, there's your problem\\: Cartoons                 0.0     0.0     0.0   \n",
       "iI Paradiso Degli Orchi                                0.0     0.0     0.0   \n",
       "stardust                                               0.0     0.0     0.0   \n",
       "Ã?Â?bermorgen.                                         0.0     0.0     0.0   \n",
       "\n",
       "userid                                              278851  278852  278854  \n",
       "title                                                                       \n",
       " Jason, Madison &amp                                   0.0     0.0     0.0  \n",
       " Other Stories;Merril;1985;McClelland &amp             0.0     0.0     0.0  \n",
       " Repairing PC Drives &amp                              0.0     0.0     0.0  \n",
       "'48                                                    0.0     0.0     0.0  \n",
       "'O Au No Keia: Voices from Hawai'I's Mahu and T...     0.0     0.0     0.0  \n",
       "...                                                    ...     ...     ...  \n",
       "\\Surely You're Joking, Mr. Feynman!\\: Adventure...     0.0     0.0     0.0  \n",
       "\\Well, there's your problem\\: Cartoons                 0.0     0.0     0.0  \n",
       "iI Paradiso Degli Orchi                                7.0     0.0     0.0  \n",
       "stardust                                               0.0     0.0     0.0  \n",
       "Ã?Â?bermorgen.                                         0.0     0.0     0.0  \n",
       "\n",
       "[9659 rows x 2182 columns]"
      ]
     },
     "execution_count": 17,
     "metadata": {},
     "output_type": "execute_result"
    }
   ],
   "source": [
    "ratings_pivot=df.pivot_table(index='title',columns='userid',values='rating').fillna(0) #creating a pivot table of index \n",
    "#title and columns as userid. values inside this pivot table are ratings.\n",
    "ratings_pivot"
   ]
  },
  {
   "cell_type": "markdown",
   "metadata": {},
   "source": [
    "### Most of the values are zero because not every user has rated every movie."
   ]
  },
  {
   "cell_type": "code",
   "execution_count": 43,
   "metadata": {},
   "outputs": [],
   "source": [
    "ratings_matrix=ratings_pivot.values # obtaining the array of values."
   ]
  },
  {
   "cell_type": "markdown",
   "metadata": {},
   "source": [
    "# Building the model"
   ]
  },
  {
   "cell_type": "code",
   "execution_count": 46,
   "metadata": {},
   "outputs": [
    {
     "data": {
      "text/plain": [
       "NearestNeighbors(algorithm='brute', metric='cosine')"
      ]
     },
     "execution_count": 46,
     "metadata": {},
     "output_type": "execute_result"
    }
   ],
   "source": [
    "from sklearn.neighbors import NearestNeighbors\n",
    "model_knn= NearestNeighbors(metric='cosine',algorithm='brute')\n",
    "model_knn.fit(ratings_matrix) #fitting the model to the pivot matrix"
   ]
  },
  {
   "attachments": {
    "image.png": {
     "image/png": "[encoded data removed]"
    }
   },
   "cell_type": "markdown",
   "metadata": {},
   "source": [
    "Obtaining the similarity scores based on the Nearest neighbors.We can also use pairwise_distance class and obtain the similarity score but I have used KNN because it gives the similarity scores and also based on the nearest distance which will be easier to build the recommendation. Since K neighbors finds the nearest neighbors based on the nearest distance, we can find the similarity scores based on this distance as (similarity score=1-distance). With this we can find out if suppose some random user has read a book 'x', then the next recommendation that will be given to him will be the book based which has the highest similarity score with the book 'x'. The similarity scores any two parameters is found out by using cosine of the angle made by the vector of the two parameters.\n",
    "![image.png](attachment:image.png)\n",
    "\n",
    "The lesser the distance between these two points, the more is the similarity score. Because if the distance between two points decreases, the angle between them is lesser and cos( angle between them) increases and this is the similarity score.Higher the similarity scores, higher is the probability of that book getting recommended. This is how a recommendation engine works."
   ]
  },
  {
   "cell_type": "code",
   "execution_count": 47,
   "metadata": {},
   "outputs": [
    {
     "name": "stdout",
     "output_type": "stream",
     "text": [
      "2058\n"
     ]
    }
   ],
   "source": [
    "query_index=np.random.choice(ratings_pivot.shape[0]) #using the random.choice from the numpy library,obtaining some random \n",
    "#index no.\n",
    "print(query_index)"
   ]
  },
  {
   "cell_type": "code",
   "execution_count": 48,
   "metadata": {},
   "outputs": [
    {
     "data": {
      "text/plain": [
       "array([0., 1., 1., 1., 1., 1.])"
      ]
     },
     "execution_count": 48,
     "metadata": {},
     "output_type": "execute_result"
    }
   ],
   "source": [
    "distances,indices= model_knn.kneighbors(ratings_pivot.iloc[query_index,:].values.reshape(1,-1),n_neighbors=6)#ratings_pivot.iloc[query_index,:].values.reshape(1,-1)\n",
    "#will obtain the 2058th row value in array format and will reshape it to a dimension of 2. kneighbours will find the eucledian\n",
    "#distance of this entire record with other records and andd give the distance and distance and indices of the nearest 6\n",
    "#records\n",
    "distances.flatten() #flatten() function will convert 2d to a 1d."
   ]
  },
  {
   "cell_type": "code",
   "execution_count": 27,
   "metadata": {},
   "outputs": [
    {
     "name": "stdout",
     "output_type": "stream",
     "text": [
      "similarity score is : [1.0, 1.0, 1.0, 1.0, 0.7071067811865475, 0.0]\n"
     ]
    }
   ],
   "source": [
    "lst_similarity_score=[] #empty list\n",
    "for i in range(len(distances.flatten())): ##Running a for loop on distance.\n",
    "    similarity_score=1-distances.flatten()[i]\n",
    "    lst_similarity_score.append(similarity_score)\n",
    "print('similarity score is :',lst_similarity_score)"
   ]
  },
  {
   "cell_type": "markdown",
   "metadata": {},
   "source": [
    "### From the above block of code we are obtaining a list of similarity scores which is 1-distance"
   ]
  },
  {
   "cell_type": "code",
   "execution_count": 24,
   "metadata": {},
   "outputs": [
    {
     "name": "stdout",
     "output_type": "stream",
     "text": [
      "Recommendations for Big Bad Wolfe: At The Altar! (By Request 2'S) (By Request 2's) is: \n",
      "\n",
      "1.Big Bad Wolfe: At The Altar! (By Request 2'S) (By Request 2's) with a similarity of 1.0\n",
      "2.A Treasure Worth Seeking with a similarity of 1.0\n",
      "3.Wrong Man ... The Right Time (Silhouette Special Edition, No 1089) with a similarity of 1.0\n",
      "4.Tiger Prince with a similarity of 0.7071067811865475\n",
      "5.Spring Collection with a similarity of 0.0\n"
     ]
    }
   ],
   "source": [
    "for i in range(len(distances.flatten())):\n",
    "    if(i==0):\n",
    "        print('Recommendations for {0} is: \\n'.format(ratings_pivot.index[query_index]))\n",
    "    else:\n",
    "        print('{0}.{1} with a similarity of {2}'.format(i,ratings_pivot.index[indices.flatten()[i]],(1-distances.flatten()[i])))"
   ]
  },
  {
   "cell_type": "markdown",
   "metadata": {},
   "source": [
    "### Based on the similarity scores the above books are recommended to Big Bad Wolfe."
   ]
  },
  {
   "cell_type": "code",
   "execution_count": null,
   "metadata": {},
   "outputs": [],
   "source": []
  }
 ],
 "metadata": {
  "kernelspec": {
   "display_name": "Python 3",
   "language": "python",
   "name": "python3"
  },
  "language_info": {
   "codemirror_mode": {
    "name": "ipython",
    "version": 3
   },
   "file_extension": ".py",
   "mimetype": "text/x-python",
   "name": "python",
   "nbconvert_exporter": "python",
   "pygments_lexer": "ipython3",
   "version": "3.8.3"
  }
 },
 "nbformat": 4,
 "nbformat_minor": 4
}
